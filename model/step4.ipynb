{
 "cells": [
  {
   "cell_type": "code",
   "execution_count": 83,
   "metadata": {},
   "outputs": [],
   "source": [
    "import torch\n",
    "import torch.nn as nn\n",
    "import torch.optim as optim\n",
    "import numpy as np\n",
    "import pandas as pd\n",
    "import matplotlib.pyplot as plt"
   ]
  },
  {
   "cell_type": "code",
   "execution_count": 125,
   "metadata": {},
   "outputs": [
    {
     "data": {
      "text/html": [
       "<div>\n",
       "<style scoped>\n",
       "    .dataframe tbody tr th:only-of-type {\n",
       "        vertical-align: middle;\n",
       "    }\n",
       "\n",
       "    .dataframe tbody tr th {\n",
       "        vertical-align: top;\n",
       "    }\n",
       "\n",
       "    .dataframe thead th {\n",
       "        text-align: right;\n",
       "    }\n",
       "</style>\n",
       "<table border=\"1\" class=\"dataframe\">\n",
       "  <thead>\n",
       "    <tr style=\"text-align: right;\">\n",
       "      <th></th>\n",
       "      <th>Zone</th>\n",
       "      <th>Foot</th>\n",
       "      <th>Keeper</th>\n",
       "      <th>Goal</th>\n",
       "    </tr>\n",
       "  </thead>\n",
       "  <tbody>\n",
       "    <tr>\n",
       "      <th>0</th>\n",
       "      <td>7.0</td>\n",
       "      <td>0.3</td>\n",
       "      <td>0.3</td>\n",
       "      <td>1.0</td>\n",
       "    </tr>\n",
       "    <tr>\n",
       "      <th>1</th>\n",
       "      <td>9.0</td>\n",
       "      <td>0.3</td>\n",
       "      <td>0.5</td>\n",
       "      <td>1.0</td>\n",
       "    </tr>\n",
       "    <tr>\n",
       "      <th>2</th>\n",
       "      <td>6.0</td>\n",
       "      <td>0.3</td>\n",
       "      <td>0.8</td>\n",
       "      <td>1.0</td>\n",
       "    </tr>\n",
       "    <tr>\n",
       "      <th>3</th>\n",
       "      <td>2.0</td>\n",
       "      <td>0.3</td>\n",
       "      <td>0.5</td>\n",
       "      <td>1.0</td>\n",
       "    </tr>\n",
       "    <tr>\n",
       "      <th>4</th>\n",
       "      <td>9.0</td>\n",
       "      <td>0.3</td>\n",
       "      <td>0.8</td>\n",
       "      <td>1.0</td>\n",
       "    </tr>\n",
       "    <tr>\n",
       "      <th>...</th>\n",
       "      <td>...</td>\n",
       "      <td>...</td>\n",
       "      <td>...</td>\n",
       "      <td>...</td>\n",
       "    </tr>\n",
       "    <tr>\n",
       "      <th>274</th>\n",
       "      <td>7.0</td>\n",
       "      <td>0.3</td>\n",
       "      <td>0.8</td>\n",
       "      <td>1.0</td>\n",
       "    </tr>\n",
       "    <tr>\n",
       "      <th>275</th>\n",
       "      <td>7.0</td>\n",
       "      <td>0.3</td>\n",
       "      <td>0.3</td>\n",
       "      <td>1.0</td>\n",
       "    </tr>\n",
       "    <tr>\n",
       "      <th>276</th>\n",
       "      <td>4.0</td>\n",
       "      <td>0.3</td>\n",
       "      <td>0.3</td>\n",
       "      <td>1.0</td>\n",
       "    </tr>\n",
       "    <tr>\n",
       "      <th>277</th>\n",
       "      <td>7.0</td>\n",
       "      <td>0.3</td>\n",
       "      <td>0.3</td>\n",
       "      <td>1.0</td>\n",
       "    </tr>\n",
       "    <tr>\n",
       "      <th>278</th>\n",
       "      <td>7.0</td>\n",
       "      <td>0.3</td>\n",
       "      <td>0.3</td>\n",
       "      <td>1.0</td>\n",
       "    </tr>\n",
       "  </tbody>\n",
       "</table>\n",
       "<p>279 rows × 4 columns</p>\n",
       "</div>"
      ],
      "text/plain": [
       "     Zone  Foot  Keeper  Goal\n",
       "0     7.0   0.3     0.3   1.0\n",
       "1     9.0   0.3     0.5   1.0\n",
       "2     6.0   0.3     0.8   1.0\n",
       "3     2.0   0.3     0.5   1.0\n",
       "4     9.0   0.3     0.8   1.0\n",
       "..    ...   ...     ...   ...\n",
       "274   7.0   0.3     0.8   1.0\n",
       "275   7.0   0.3     0.3   1.0\n",
       "276   4.0   0.3     0.3   1.0\n",
       "277   7.0   0.3     0.3   1.0\n",
       "278   7.0   0.3     0.3   1.0\n",
       "\n",
       "[279 rows x 4 columns]"
      ]
     },
     "execution_count": 125,
     "metadata": {},
     "output_type": "execute_result"
    }
   ],
   "source": [
    "df = pd.read_csv(\"WorldCupShootouts_1.csv\", dtype=np.float32)\n",
    "df"
   ]
  },
  {
   "cell_type": "code",
   "execution_count": 126,
   "metadata": {},
   "outputs": [
    {
     "data": {
      "text/plain": [
       "(279, 4)"
      ]
     },
     "execution_count": 126,
     "metadata": {},
     "output_type": "execute_result"
    }
   ],
   "source": [
    "df.shape"
   ]
  },
  {
   "cell_type": "code",
   "execution_count": 127,
   "metadata": {},
   "outputs": [
    {
     "data": {
      "text/plain": [
       "array([[7. , 0.3, 0.3],\n",
       "       [9. , 0.3, 0.5],\n",
       "       [6. , 0.3, 0.8],\n",
       "       [2. , 0.3, 0.5],\n",
       "       [9. , 0.3, 0.8],\n",
       "       [4. , 0.3, 0.8],\n",
       "       [8. , 0.8, 0.8],\n",
       "       [3. , 0.3, 0.3],\n",
       "       [9. , 0.3, 0.8],\n",
       "       [9. , 0.3, 0.5],\n",
       "       [7. , 0.3, 0.8],\n",
       "       [9. , 0.3, 0.5],\n",
       "       [4. , 0.3, 0.8],\n",
       "       [2. , 0.3, 0.3],\n",
       "       [6. , 0.3, 0.3],\n",
       "       [6. , 0.3, 0.3],\n",
       "       [8. , 0.3, 0.8],\n",
       "       [9. , 0.8, 0.3],\n",
       "       [4. , 0.8, 0.3],\n",
       "       [1. , 0.3, 0.3],\n",
       "       [7. , 0.3, 0.8],\n",
       "       [7. , 0.3, 0.3],\n",
       "       [1. , 0.8, 0.3],\n",
       "       [6. , 0.8, 0.8],\n",
       "       [8. , 0.8, 0.8],\n",
       "       [8. , 0.3, 0.8],\n",
       "       [7. , 0.3, 0.8],\n",
       "       [7. , 0.3, 0.8],\n",
       "       [4. , 0.3, 0.8],\n",
       "       [7. , 0.3, 0.3],\n",
       "       [9. , 0.3, 0.8],\n",
       "       [7. , 0.3, 0.8],\n",
       "       [4. , 0.3, 0.3],\n",
       "       [1. , 0.3, 0.8],\n",
       "       [7. , 0.3, 0.3],\n",
       "       [1. , 0.3, 0.8],\n",
       "       [5. , 0.8, 0.3],\n",
       "       [1. , 0.3, 0.3],\n",
       "       [5. , 0.3, 0.8],\n",
       "       [3. , 0.8, 0.3],\n",
       "       [2. , 0.8, 0.3],\n",
       "       [9. , 0.3, 0.3],\n",
       "       [9. , 0.3, 0.8],\n",
       "       [4. , 0.8, 0.8],\n",
       "       [7. , 0.8, 0.3],\n",
       "       [1. , 0.3, 0.8],\n",
       "       [8. , 0.8, 0.8],\n",
       "       [7. , 0.3, 0.8],\n",
       "       [6. , 0.3, 0.8],\n",
       "       [6. , 0.3, 0.8],\n",
       "       [1. , 0.3, 0.3],\n",
       "       [1. , 0.3, 0.3],\n",
       "       [4. , 0.3, 0.3],\n",
       "       [7. , 0.8, 0.8],\n",
       "       [7. , 0.8, 0.3],\n",
       "       [3. , 0.3, 0.8],\n",
       "       [7. , 0.3, 0.8],\n",
       "       [7. , 0.3, 0.5],\n",
       "       [6. , 0.3, 0.3],\n",
       "       [8. , 0.3, 0.3],\n",
       "       [5. , 0.3, 0.8],\n",
       "       [4. , 0.3, 0.8],\n",
       "       [8. , 0.3, 0.3],\n",
       "       [4. , 0.8, 0.8],\n",
       "       [9. , 0.3, 0.8],\n",
       "       [6. , 0.3, 0.3],\n",
       "       [7. , 0.8, 0.3],\n",
       "       [9. , 0.8, 0.3],\n",
       "       [7. , 0.3, 0.3],\n",
       "       [7. , 0.3, 0.8],\n",
       "       [6. , 0.3, 0.3],\n",
       "       [4. , 0.3, 0.8],\n",
       "       [1. , 0.3, 0.8],\n",
       "       [6. , 0.3, 0.3],\n",
       "       [8. , 0.8, 0.8],\n",
       "       [6. , 0.3, 0.3],\n",
       "       [1. , 0.8, 0.8],\n",
       "       [2. , 0.8, 0.3],\n",
       "       [4. , 0.8, 0.8],\n",
       "       [9. , 0.3, 0.3],\n",
       "       [2. , 0.3, 0.3],\n",
       "       [7. , 0.3, 0.8],\n",
       "       [1. , 0.3, 0.8],\n",
       "       [9. , 0.3, 0.5],\n",
       "       [3. , 0.3, 0.3],\n",
       "       [2. , 0.3, 0.3],\n",
       "       [9. , 0.3, 0.3],\n",
       "       [6. , 0.3, 0.3],\n",
       "       [9. , 0.8, 0.8],\n",
       "       [7. , 0.3, 0.5],\n",
       "       [4. , 0.3, 0.3],\n",
       "       [7. , 0.3, 0.3],\n",
       "       [5. , 0.3, 0.3],\n",
       "       [2. , 0.3, 0.8],\n",
       "       [4. , 0.3, 0.3],\n",
       "       [9. , 0.3, 0.8],\n",
       "       [9. , 0.3, 0.3],\n",
       "       [2. , 0.3, 0.3],\n",
       "       [4. , 0.3, 0.8],\n",
       "       [4. , 0.3, 0.3],\n",
       "       [4. , 0.3, 0.5],\n",
       "       [5. , 0.8, 0.8],\n",
       "       [9. , 0.8, 0.8],\n",
       "       [6. , 0.3, 0.3],\n",
       "       [6. , 0.3, 0.8],\n",
       "       [2. , 0.3, 0.5],\n",
       "       [9. , 0.8, 0.3],\n",
       "       [1. , 0.3, 0.8],\n",
       "       [6. , 0.3, 0.3],\n",
       "       [6. , 0.3, 0.3],\n",
       "       [1. , 0.3, 0.8],\n",
       "       [1. , 0.3, 0.8],\n",
       "       [7. , 0.3, 0.8],\n",
       "       [1. , 0.3, 0.3],\n",
       "       [9. , 0.3, 0.5],\n",
       "       [5. , 0.3, 0.8],\n",
       "       [7. , 0.3, 0.3],\n",
       "       [9. , 0.3, 0.5],\n",
       "       [7. , 0.8, 0.8],\n",
       "       [7. , 0.3, 0.8],\n",
       "       [7. , 0.3, 0.3],\n",
       "       [4. , 0.3, 0.8],\n",
       "       [9. , 0.3, 0.3],\n",
       "       [3. , 0.8, 0.3],\n",
       "       [5. , 0.3, 0.3],\n",
       "       [2. , 0.3, 0.3],\n",
       "       [2. , 0.3, 0.3],\n",
       "       [4. , 0.8, 0.8],\n",
       "       [6. , 0.8, 0.8],\n",
       "       [9. , 0.3, 0.3],\n",
       "       [5. , 0.3, 0.3],\n",
       "       [6. , 0.8, 0.3],\n",
       "       [1. , 0.3, 0.8],\n",
       "       [7. , 0.3, 0.8],\n",
       "       [2. , 0.3, 0.3],\n",
       "       [4. , 0.3, 0.3],\n",
       "       [2. , 0.3, 0.3],\n",
       "       [6. , 0.3, 0.5],\n",
       "       [5. , 0.3, 0.5],\n",
       "       [9. , 0.8, 0.5],\n",
       "       [6. , 0.8, 0.3],\n",
       "       [7. , 0.3, 0.3],\n",
       "       [3. , 0.3, 0.5],\n",
       "       [8. , 0.3, 0.8],\n",
       "       [9. , 0.3, 0.3],\n",
       "       [5. , 0.3, 0.3],\n",
       "       [6. , 0.3, 0.5],\n",
       "       [7. , 0.3, 0.3],\n",
       "       [6. , 0.3, 0.8],\n",
       "       [3. , 0.3, 0.5],\n",
       "       [8. , 0.3, 0.8],\n",
       "       [5. , 0.3, 0.5],\n",
       "       [3. , 0.3, 0.8],\n",
       "       [7. , 0.3, 0.8],\n",
       "       [7. , 0.8, 0.8],\n",
       "       [5. , 0.3, 0.8],\n",
       "       [1. , 0.3, 0.8],\n",
       "       [6. , 0.3, 0.8],\n",
       "       [2. , 0.3, 0.3],\n",
       "       [7. , 0.3, 0.3],\n",
       "       [6. , 0.3, 0.3],\n",
       "       [1. , 0.3, 0.8],\n",
       "       [4. , 0.3, 0.5],\n",
       "       [9. , 0.3, 0.3],\n",
       "       [9. , 0.8, 0.8],\n",
       "       [7. , 0.3, 0.8],\n",
       "       [9. , 0.3, 0.8],\n",
       "       [9. , 0.8, 0.3],\n",
       "       [7. , 0.3, 0.8],\n",
       "       [8. , 0.3, 0.5],\n",
       "       [4. , 0.8, 0.3],\n",
       "       [7. , 0.3, 0.8],\n",
       "       [7. , 0.3, 0.8],\n",
       "       [5. , 0.3, 0.3],\n",
       "       [4. , 0.3, 0.5],\n",
       "       [7. , 0.3, 0.8],\n",
       "       [6. , 0.3, 0.8],\n",
       "       [2. , 0.3, 0.8],\n",
       "       [9. , 0.3, 0.8],\n",
       "       [9. , 0.8, 0.3],\n",
       "       [1. , 0.3, 0.3],\n",
       "       [1. , 0.3, 0.8],\n",
       "       [7. , 0.8, 0.3],\n",
       "       [4. , 0.3, 0.3],\n",
       "       [3. , 0.3, 0.8],\n",
       "       [3. , 0.8, 0.8],\n",
       "       [7. , 0.3, 0.8],\n",
       "       [6. , 0.3, 0.8],\n",
       "       [9. , 0.3, 0.3],\n",
       "       [4. , 0.3, 0.8],\n",
       "       [9. , 0.3, 0.8],\n",
       "       [1. , 0.3, 0.8],\n",
       "       [2. , 0.3, 0.8],\n",
       "       [8. , 0.8, 0.3],\n",
       "       [7. , 0.8, 0.3],\n",
       "       [6. , 0.3, 0.8],\n",
       "       [3. , 0.3, 0.3],\n",
       "       [1. , 0.3, 0.8],\n",
       "       [1. , 0.3, 0.8],\n",
       "       [8. , 0.3, 0.5],\n",
       "       [8. , 0.3, 0.3],\n",
       "       [2. , 0.3, 0.8],\n",
       "       [9. , 0.3, 0.3],\n",
       "       [5. , 0.8, 0.8],\n",
       "       [4. , 0.3, 0.3],\n",
       "       [5. , 0.3, 0.5],\n",
       "       [7. , 0.3, 0.5],\n",
       "       [7. , 0.3, 0.8],\n",
       "       [6. , 0.8, 0.3],\n",
       "       [3. , 0.3, 0.5],\n",
       "       [8. , 0.8, 0.3],\n",
       "       [8. , 0.3, 0.3],\n",
       "       [7. , 0.3, 0.5],\n",
       "       [6. , 0.3, 0.3],\n",
       "       [2. , 0.3, 0.8],\n",
       "       [4. , 0.8, 0.5],\n",
       "       [3. , 0.8, 0.8],\n",
       "       [9. , 0.3, 0.8],\n",
       "       [5. , 0.3, 0.8],\n",
       "       [3. , 0.8, 0.3],\n",
       "       [7. , 0.8, 0.5],\n",
       "       [4. , 0.3, 0.8],\n",
       "       [1. , 0.3, 0.8],\n",
       "       [9. , 0.3, 0.3],\n",
       "       [9. , 0.8, 0.3],\n",
       "       [9. , 0.8, 0.3],\n",
       "       [1. , 0.8, 0.3],\n",
       "       [6. , 0.3, 0.3],\n",
       "       [4. , 0.3, 0.3],\n",
       "       [1. , 0.3, 0.8],\n",
       "       [7. , 0.3, 0.8],\n",
       "       [9. , 0.3, 0.3],\n",
       "       [9. , 0.3, 0.3],\n",
       "       [4. , 0.8, 0.5],\n",
       "       [9. , 0.8, 0.8],\n",
       "       [2. , 0.3, 0.8],\n",
       "       [4. , 0.3, 0.8],\n",
       "       [7. , 0.3, 0.8],\n",
       "       [9. , 0.3, 0.8],\n",
       "       [4. , 0.3, 0.8],\n",
       "       [6. , 0.3, 0.5],\n",
       "       [4. , 0.3, 0.8],\n",
       "       [7. , 0.3, 0.3],\n",
       "       [6. , 0.3, 0.8],\n",
       "       [7. , 0.3, 0.8],\n",
       "       [7. , 0.3, 0.8],\n",
       "       [4. , 0.3, 0.3],\n",
       "       [8. , 0.8, 0.8],\n",
       "       [8. , 0.8, 0.8],\n",
       "       [7. , 0.3, 0.8],\n",
       "       [7. , 0.3, 0.8],\n",
       "       [3. , 0.3, 0.5],\n",
       "       [7. , 0.3, 0.5],\n",
       "       [7. , 0.3, 0.3],\n",
       "       [8. , 0.3, 0.3],\n",
       "       [4. , 0.3, 0.8],\n",
       "       [7. , 0.8, 0.8],\n",
       "       [8. , 0.3, 0.3],\n",
       "       [7. , 0.3, 0.5],\n",
       "       [5. , 0.3, 0.8],\n",
       "       [7. , 0.3, 0.8],\n",
       "       [1. , 0.3, 0.8],\n",
       "       [7. , 0.3, 0.8],\n",
       "       [9. , 0.3, 0.8],\n",
       "       [9. , 0.3, 0.3],\n",
       "       [3. , 0.3, 0.3],\n",
       "       [1. , 0.3, 0.8],\n",
       "       [4. , 0.3, 0.8],\n",
       "       [7. , 0.3, 0.8],\n",
       "       [5. , 0.3, 0.5],\n",
       "       [6. , 0.3, 0.3],\n",
       "       [9. , 0.3, 0.5],\n",
       "       [9. , 0.3, 0.3],\n",
       "       [7. , 0.3, 0.5],\n",
       "       [7. , 0.3, 0.8],\n",
       "       [7. , 0.3, 0.3],\n",
       "       [4. , 0.3, 0.3],\n",
       "       [7. , 0.3, 0.3],\n",
       "       [7. , 0.3, 0.3]], dtype=float32)"
      ]
     },
     "execution_count": 127,
     "metadata": {},
     "output_type": "execute_result"
    }
   ],
   "source": [
    "df.loc[:, df.columns != 'Goal'].values"
   ]
  },
  {
   "cell_type": "code",
   "execution_count": 128,
   "metadata": {},
   "outputs": [
    {
     "data": {
      "text/plain": [
       "array([1., 1., 1., 1., 1., 0., 0., 1., 1., 1., 0., 1., 0., 1., 1., 1., 1.,\n",
       "       1., 1., 0., 0., 1., 1., 1., 1., 0., 1., 0., 1., 1., 1., 0., 1., 1.,\n",
       "       1., 1., 1., 1., 1., 1., 1., 1., 1., 1., 1., 1., 1., 0., 1., 1., 0.,\n",
       "       1., 1., 0., 1., 0., 0., 1., 0., 1., 1., 1., 1., 1., 1., 0., 1., 0.,\n",
       "       1., 1., 1., 1., 0., 1., 0., 1., 0., 0., 0., 0., 1., 0., 1., 1., 1.,\n",
       "       0., 1., 1., 1., 1., 1., 1., 0., 1., 1., 1., 0., 0., 0., 1., 1., 1.,\n",
       "       1., 0., 1., 0., 1., 1., 0., 0., 1., 1., 1., 1., 1., 0., 1., 1., 0.,\n",
       "       0., 1., 1., 1., 1., 1., 0., 1., 1., 1., 1., 1., 0., 1., 0., 1., 1.,\n",
       "       0., 1., 0., 0., 0., 0., 1., 1., 1., 1., 1., 1., 1., 1., 1., 0., 1.,\n",
       "       0., 0., 1., 0., 1., 0., 1., 1., 1., 1., 0., 1., 1., 1., 0., 1., 0.,\n",
       "       0., 1., 0., 0., 1., 0., 1., 1., 1., 1., 0., 1., 1., 1., 1., 1., 1.,\n",
       "       1., 1., 1., 1., 0., 1., 1., 1., 1., 1., 1., 1., 1., 0., 0., 0., 1.,\n",
       "       1., 0., 0., 0., 1., 1., 0., 1., 1., 0., 1., 1., 1., 1., 1., 1., 1.,\n",
       "       0., 1., 1., 1., 0., 1., 1., 1., 1., 1., 0., 0., 1., 1., 1., 0., 1.,\n",
       "       1., 1., 1., 1., 1., 1., 0., 1., 1., 1., 0., 0., 0., 1., 1., 1., 1.,\n",
       "       0., 0., 0., 1., 1., 1., 1., 1., 1., 0., 0., 1., 0., 1., 0., 1., 1.,\n",
       "       0., 0., 1., 1., 1., 1., 1.], dtype=float32)"
      ]
     },
     "execution_count": 128,
     "metadata": {},
     "output_type": "execute_result"
    }
   ],
   "source": [
    "df['Goal'].values"
   ]
  },
  {
   "cell_type": "code",
   "execution_count": 133,
   "metadata": {},
   "outputs": [],
   "source": [
    "from sklearn.model_selection import train_test_split\n",
    "\n",
    "# Seperate the features and labels\n",
    "label = df.Goal.values\n",
    "features = df.loc[:, df.columns != 'Goal'].values/10\n",
    "\n",
    "# Split into training and test set\n",
    "train_x, test_x, train_y, test_y = train_test_split(features, label, test_size=0.2, random_state=0)"
   ]
  },
  {
   "cell_type": "code",
   "execution_count": 130,
   "metadata": {},
   "outputs": [
    {
     "name": "stdout",
     "output_type": "stream",
     "text": [
      "[1. 1. 0. 1. 1. 1. 0. 1. 1. 1. 1. 1. 1. 1. 0. 1. 1. 1. 1. 0. 1. 1. 0. 1.\n",
      " 1. 0. 0. 1. 1. 1. 1. 1. 1. 0. 1. 1. 1. 1. 0. 0. 0. 0. 1. 1. 1. 0. 1. 1.\n",
      " 0. 0. 1. 1. 1. 1. 0. 0. 1. 1. 1. 1. 0. 0. 1. 1. 1. 1. 0. 1. 0. 1. 1. 1.\n",
      " 1. 1. 1. 0. 1. 0. 1. 1. 1. 1. 0. 0. 1. 1. 1. 1. 1. 0. 1. 1. 0. 1. 1. 0.\n",
      " 1. 1. 1. 1. 0. 1. 0. 1. 1. 1. 1. 1. 1. 1. 0. 1. 1. 1. 1. 0. 1. 0. 1. 0.\n",
      " 1. 1. 1. 0. 1. 1. 1. 1. 1. 1. 1. 1. 1. 0. 0. 1. 1. 1. 1. 1. 0. 1. 1. 1.\n",
      " 1. 1. 1. 0. 1. 1. 0. 1. 0. 1. 1. 0. 1. 1. 1. 1. 1. 1. 1. 0. 1. 1. 1. 1.\n",
      " 1. 0. 1. 1. 1. 1. 0. 1. 0. 0. 1. 0. 0. 1. 0. 1. 0. 1. 1. 0. 1. 1. 1. 0.\n",
      " 0. 1. 1. 1. 1. 1. 1. 1. 0. 1. 1. 1. 1. 0. 0. 1. 1. 1. 0. 1. 1. 1. 1. 1.\n",
      " 0. 1. 1. 0. 1. 1. 0.]\n"
     ]
    }
   ],
   "source": [
    "print(train_y)"
   ]
  },
  {
   "cell_type": "code",
   "execution_count": 108,
   "metadata": {},
   "outputs": [
    {
     "name": "stdout",
     "output_type": "stream",
     "text": [
      "(223, 3)\n",
      "(223,)\n",
      "float32\n",
      "float32\n"
     ]
    }
   ],
   "source": [
    "print(train_x.shape)\n",
    "print(train_y.shape)\n",
    "\n",
    "print(train_x.dtype)\n",
    "print(train_y.dtype)"
   ]
  },
  {
   "cell_type": "code",
   "execution_count": 109,
   "metadata": {},
   "outputs": [
    {
     "name": "stdout",
     "output_type": "stream",
     "text": [
      "(56, 3)\n",
      "(56,)\n",
      "float32\n",
      "float32\n"
     ]
    }
   ],
   "source": [
    "print(test_x.shape)\n",
    "print(test_y.shape)\n",
    "\n",
    "print(test_x.dtype)\n",
    "print(test_y.dtype)"
   ]
  },
  {
   "cell_type": "code",
   "execution_count": 110,
   "metadata": {},
   "outputs": [],
   "source": [
    "from torch.utils.data import DataLoader, Dataset\n",
    "\n",
    "class custom_data(Dataset):\n",
    "    def __init__(self, data, targets):\n",
    "        self.x = data\n",
    "        self.y = targets\n",
    "    \n",
    "    def __len__(self):\n",
    "        return len(self.x)\n",
    "\n",
    "    def __getitem__(self, idx):\n",
    "        x = self.x[idx]\n",
    "        y = self.y[idx]\n",
    "\n",
    "        return x, y\n",
    "\n",
    "trainset_custom = custom_data(train_x, train_y)\n",
    "\n",
    "batch = 8\n",
    "\n",
    "trainloader = DataLoader(trainset_custom, batch_size = batch, shuffle = True)\n",
    "\n",
    "kick, result = next(iter(trainloader))"
   ]
  },
  {
   "cell_type": "code",
   "execution_count": 118,
   "metadata": {},
   "outputs": [
    {
     "data": {
      "text/plain": [
       "Model(\n",
       "  (fc1): Linear(in_features=3, out_features=1000, bias=True)\n",
       "  (fc2): Linear(in_features=1000, out_features=500, bias=True)\n",
       "  (fc3): Linear(in_features=500, out_features=250, bias=True)\n",
       "  (fc4): Linear(in_features=250, out_features=1, bias=True)\n",
       ")"
      ]
     },
     "execution_count": 118,
     "metadata": {},
     "output_type": "execute_result"
    }
   ],
   "source": [
    "import torch.nn.functional as F\n",
    "\n",
    "class Model(nn.Module):\n",
    "    def __init__(self):\n",
    "        super().__init__()\n",
    "        self.fc1 = nn.Linear(3, 1000)\n",
    "        self.fc2 = nn.Linear(1000, 500)\n",
    "        self.fc3 = nn.Linear(500, 250)\n",
    "        self.fc4 = nn.Linear(250, 1)\n",
    "\n",
    "    def forward(self, x):\n",
    "        x = F.sigmoid(self.fc1(x))\n",
    "        x = F.sigmoid(self.fc2(x))\n",
    "        x = F.sigmoid(self.fc3(x))\n",
    "        x = F.sigmoid(self.fc4(x))\n",
    "\n",
    "        return x\n",
    "\n",
    "model = Model()\n",
    "model"
   ]
  },
  {
   "cell_type": "code",
   "execution_count": 119,
   "metadata": {},
   "outputs": [
    {
     "name": "stdout",
     "output_type": "stream",
     "text": [
      "----------------------------------------------------------------\n",
      "        Layer (type)               Output Shape         Param #\n",
      "================================================================\n",
      "            Linear-1              [-1, 1, 1000]           4,000\n",
      "            Linear-2               [-1, 1, 500]         500,500\n",
      "            Linear-3               [-1, 1, 250]         125,250\n",
      "            Linear-4                 [-1, 1, 1]             251\n",
      "================================================================\n",
      "Total params: 630,001\n",
      "Trainable params: 630,001\n",
      "Non-trainable params: 0\n",
      "----------------------------------------------------------------\n",
      "Input size (MB): 0.00\n",
      "Forward/backward pass size (MB): 0.01\n",
      "Params size (MB): 2.40\n",
      "Estimated Total Size (MB): 2.42\n",
      "----------------------------------------------------------------\n"
     ]
    }
   ],
   "source": [
    "from torchsummary import summary\n",
    "\n",
    "summary(model, (1, 3), device = 'cpu')"
   ]
  },
  {
   "cell_type": "code",
   "execution_count": 134,
   "metadata": {},
   "outputs": [],
   "source": [
    "tr_x = torch.from_numpy(train_x).view(-1, 3)\n",
    "tr_y = torch.from_numpy(train_y).view(-1, 1)\n",
    "\n",
    "te_x = torch.from_numpy(test_x).view(-1, 3)\n",
    "te_y = torch.from_numpy(test_y).view(-1, 1)\n",
    "\n",
    "train = torch.utils.data.TensorDataset(tr_x, tr_y)\n",
    "test = torch.utils.data.TensorDataset(te_x, te_y)\n",
    "\n",
    "batch = 8\n",
    "trainloader = DataLoader(train, batch_size = batch, shuffle = True)\n",
    "testloader = DataLoader(test, batch_size = batch, shuffle = True)"
   ]
  },
  {
   "cell_type": "code",
   "execution_count": 135,
   "metadata": {},
   "outputs": [],
   "source": [
    "epochs = 50\n",
    "lr = 0.001\n",
    "train_loss, test_loss = [], []\n",
    "steps = 10\n",
    "\n",
    "criterion = nn.BCELoss()\n",
    "optimizer = optim.SGD(model.parameters(), lr=lr)"
   ]
  },
  {
   "cell_type": "code",
   "execution_count": 136,
   "metadata": {},
   "outputs": [
    {
     "name": "stderr",
     "output_type": "stream",
     "text": [
      "100%|██████████| 28/28 [00:00<00:00, 184.61it/s]\n"
     ]
    },
    {
     "name": "stdout",
     "output_type": "stream",
     "text": [
      "Epoch: 0/50..  Training Loss: 0.619..  Test Loss: 0.598.. \n"
     ]
    },
    {
     "name": "stderr",
     "output_type": "stream",
     "text": [
      "100%|██████████| 28/28 [00:00<00:00, 273.10it/s]\n",
      "100%|██████████| 28/28 [00:00<00:00, 290.05it/s]\n",
      "100%|██████████| 28/28 [00:00<00:00, 312.75it/s]\n",
      "100%|██████████| 28/28 [00:00<00:00, 146.55it/s]\n",
      "100%|██████████| 28/28 [00:00<00:00, 288.37it/s]\n",
      "100%|██████████| 28/28 [00:00<00:00, 302.70it/s]\n",
      "100%|██████████| 28/28 [00:00<00:00, 309.31it/s]\n",
      "100%|██████████| 28/28 [00:00<00:00, 308.08it/s]\n",
      "100%|██████████| 28/28 [00:00<00:00, 312.75it/s]\n",
      "100%|██████████| 28/28 [00:00<00:00, 332.71it/s]\n"
     ]
    },
    {
     "name": "stdout",
     "output_type": "stream",
     "text": [
      "Epoch: 10/50..  Training Loss: 0.616..  Test Loss: 0.599.. \n"
     ]
    },
    {
     "name": "stderr",
     "output_type": "stream",
     "text": [
      "100%|██████████| 28/28 [00:00<00:00, 319.83it/s]\n",
      "100%|██████████| 28/28 [00:00<00:00, 323.84it/s]\n",
      "100%|██████████| 28/28 [00:00<00:00, 329.35it/s]\n",
      "100%|██████████| 28/28 [00:00<00:00, 333.19it/s]\n",
      "100%|██████████| 28/28 [00:00<00:00, 335.22it/s]\n",
      "100%|██████████| 28/28 [00:00<00:00, 343.44it/s]\n",
      "100%|██████████| 28/28 [00:00<00:00, 356.55it/s]\n",
      "100%|██████████| 28/28 [00:00<00:00, 343.45it/s]\n",
      "100%|██████████| 28/28 [00:00<00:00, 339.28it/s]\n",
      "100%|██████████| 28/28 [00:00<00:00, 345.62it/s]\n"
     ]
    },
    {
     "name": "stdout",
     "output_type": "stream",
     "text": [
      "Epoch: 20/50..  Training Loss: 0.616..  Test Loss: 0.599.. \n"
     ]
    },
    {
     "name": "stderr",
     "output_type": "stream",
     "text": [
      "100%|██████████| 28/28 [00:00<00:00, 307.66it/s]\n",
      "100%|██████████| 28/28 [00:00<00:00, 329.37it/s]\n",
      "100%|██████████| 28/28 [00:00<00:00, 376.59it/s]\n",
      "100%|██████████| 28/28 [00:00<00:00, 369.04it/s]\n",
      "100%|██████████| 28/28 [00:00<00:00, 372.69it/s]\n",
      "100%|██████████| 28/28 [00:00<00:00, 375.72it/s]\n",
      "100%|██████████| 28/28 [00:00<00:00, 184.78it/s]\n",
      "100%|██████████| 28/28 [00:00<00:00, 352.10it/s]\n",
      "100%|██████████| 28/28 [00:00<00:00, 347.71it/s]\n",
      "100%|██████████| 28/28 [00:00<00:00, 356.56it/s]\n"
     ]
    },
    {
     "name": "stdout",
     "output_type": "stream",
     "text": [
      "Epoch: 30/50..  Training Loss: 0.615..  Test Loss: 0.599.. \n"
     ]
    },
    {
     "name": "stderr",
     "output_type": "stream",
     "text": [
      "100%|██████████| 28/28 [00:00<00:00, 296.05it/s]\n",
      "100%|██████████| 28/28 [00:00<00:00, 348.44it/s]\n",
      "100%|██████████| 28/28 [00:00<00:00, 349.97it/s]\n",
      "100%|██████████| 28/28 [00:00<00:00, 350.33it/s]\n",
      "100%|██████████| 28/28 [00:00<00:00, 351.95it/s]\n",
      "100%|██████████| 28/28 [00:00<00:00, 356.33it/s]\n",
      "100%|██████████| 28/28 [00:00<00:00, 352.10it/s]\n",
      "100%|██████████| 28/28 [00:00<00:00, 380.80it/s]\n",
      "100%|██████████| 28/28 [00:00<00:00, 367.46it/s]\n",
      "100%|██████████| 28/28 [00:00<00:00, 377.84it/s]\n"
     ]
    },
    {
     "name": "stdout",
     "output_type": "stream",
     "text": [
      "Epoch: 40/50..  Training Loss: 0.616..  Test Loss: 0.599.. \n"
     ]
    },
    {
     "name": "stderr",
     "output_type": "stream",
     "text": [
      "100%|██████████| 28/28 [00:00<00:00, 339.23it/s]\n",
      "100%|██████████| 28/28 [00:00<00:00, 375.72it/s]\n",
      "100%|██████████| 28/28 [00:00<00:00, 361.18it/s]\n",
      "100%|██████████| 28/28 [00:00<00:00, 368.38it/s]\n",
      "100%|██████████| 28/28 [00:00<00:00, 334.99it/s]\n",
      "100%|██████████| 28/28 [00:00<00:00, 356.60it/s]\n",
      "100%|██████████| 28/28 [00:00<00:00, 386.07it/s]\n",
      "100%|██████████| 28/28 [00:00<00:00, 317.43it/s]\n",
      "100%|██████████| 28/28 [00:00<00:00, 188.87it/s]\n"
     ]
    }
   ],
   "source": [
    "from tqdm import tqdm\n",
    "\n",
    "for epoch in range(epochs):\n",
    "    total_loss = 0\n",
    "    for i, (kick, results) in enumerate(tqdm(trainloader)):\n",
    "        predict = model(kick)\n",
    "        loss = criterion(predict, results)\n",
    "\n",
    "        optimizer.zero_grad()\n",
    "        loss.backward()\n",
    "        optimizer.step()\n",
    "        \n",
    "        total_loss += loss.item()\n",
    "\n",
    "    if epoch % steps == 0:\n",
    "        te_loss = 0\n",
    "        accuracy = 0\n",
    "        with torch.no_grad():\n",
    "            model.eval()\n",
    "            for j, (kick, results) in enumerate(testloader):\n",
    "                predict = model(kick)\n",
    "                te_loss += criterion(predict, results)\n",
    "        \n",
    "        train_loss.append(total_loss/len(trainloader))\n",
    "        test_loss.append(te_loss/len(testloader))\n",
    "\n",
    "        model.train()\n",
    "\n",
    "        print(\"Epoch: {}/{}.. \".format(epoch, epochs),\n",
    "                \"Training Loss: {:.3f}.. \".format(train_loss[-1]),\n",
    "                \"Test Loss: {:.3f}.. \".format(test_loss[-1]))"
   ]
  },
  {
   "cell_type": "code",
   "execution_count": 137,
   "metadata": {},
   "outputs": [
    {
     "data": {
      "image/png": "[encoded data removed]",
      "text/plain": [
       "<Figure size 640x480 with 1 Axes>"
      ]
     },
     "metadata": {},
     "output_type": "display_data"
    }
   ],
   "source": [
    "plt.plot(train_loss, label='train loss')\n",
    "plt.plot(test_loss, label='test loss')\n",
    "plt.legend()\n",
    "plt.show()"
   ]
  },
  {
   "cell_type": "code",
   "execution_count": 138,
   "metadata": {},
   "outputs": [
    {
     "name": "stdout",
     "output_type": "stream",
     "text": [
      "0.2857142857142857\n"
     ]
    }
   ],
   "source": [
    "from sklearn.metrics import accuracy_score\n",
    "\n",
    "model.eval()\n",
    "\n",
    "acc = 0\n",
    "for j, (kick, results) in enumerate(testloader):\n",
    "    predict = model(kick)\n",
    "    acc += accuracy_score(results, torch.argmax(predict, axis=1))\n",
    "\n",
    "acc = acc / (j+1)\n",
    "print(acc)"
   ]
  }
 ],
 "metadata": {
  "kernelspec": {
   "display_name": "base",
   "language": "python",
   "name": "python3"
  },
  "language_info": {
   "codemirror_mode": {
    "name": "ipython",
    "version": 3
   },
   "file_extension": ".py",
   "mimetype": "text/x-python",
   "name": "python",
   "nbconvert_exporter": "python",
   "pygments_lexer": "ipython3",
   "version": "3.11.9"
  }
 },
 "nbformat": 4,
 "nbformat_minor": 2
}
