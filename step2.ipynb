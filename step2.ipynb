{
 "cells": [
  {
   "cell_type": "code",
   "execution_count": 2,
   "metadata": {},
   "outputs": [],
   "source": [
    "import numpy as np\n",
    "import torch\n",
    "import torch.nn as nn\n",
    "import torch.optim as optim\n",
    "import matplotlib.pyplot as plt"
   ]
  },
  {
   "cell_type": "code",
   "execution_count": 9,
   "metadata": {},
   "outputs": [],
   "source": [
    "x_train = np.array([\n",
    "    [0.312, 0.259, 0.400, 0.216],\n",
    "    [0.138, 0.311, 0.028, 0.189],\n",
    "    [0.135, 0.531, 0.431, 0.135],\n",
    "    [0.314, 0.279, 0.420, 0.256], \n",
    "    [0.118, 0.321, 0.528, 0.389],\n",
    "    [0.185, 0.501, 0.435, 0.175],\n",
    "    [0.310, 0.255, 0.422, 0.256], \n",
    "    [0.238, 0.311, 0.128, 0.289],\n",
    "    [0.136, 0.532, 0.471, 0.235]\n",
    "])\n",
    "\n",
    "y_train = np.array([0, 0, 0, 0, 0, 1, 1, 1, 1])"
   ]
  },
  {
   "cell_type": "code",
   "execution_count": 27,
   "metadata": {},
   "outputs": [],
   "source": [
    "x_test = ([\n",
    "    [0.312, 0.259, 0.400, 0.216],\n",
    "    [0.138, 0.311, 0.028, 0.189],\n",
    "    [0.135, 0.531, 0.431, 0.135]\n",
    "])\n",
    "\n",
    "y_test = np.array([0,0,1])"
   ]
  },
  {
   "cell_type": "code",
   "execution_count": 11,
   "metadata": {},
   "outputs": [
    {
     "name": "stdout",
     "output_type": "stream",
     "text": [
      "float64\n",
      "int32\n",
      "(9, 4)\n",
      "(9,)\n"
     ]
    }
   ],
   "source": [
    "print(x_train.dtype)\n",
    "print(y_train.dtype)\n",
    "print(x_train.shape)\n",
    "print(y_train.shape)"
   ]
  },
  {
   "cell_type": "code",
   "execution_count": 12,
   "metadata": {},
   "outputs": [],
   "source": [
    "from torch.utils.data import DataLoader, Dataset, TensorDataset\n",
    "\n",
    "class custom_data(Dataset):\n",
    "    def __init__(self, x, y):\n",
    "        self.x = x\n",
    "        self.y = y\n",
    "\n",
    "    def __len__(self):\n",
    "        return len(self.x)\n",
    "\n",
    "    def __getitem__(self, index):\n",
    "        x = self.x[index]\n",
    "        y = self.y[index]\n",
    "\n",
    "        x = torch.tensor(x, dtype = torch.float32)\n",
    "        y = torch.tensor(y, dtype = torch.long)\n",
    "\n",
    "        return x, y"
   ]
  },
  {
   "cell_type": "code",
   "execution_count": 28,
   "metadata": {},
   "outputs": [],
   "source": [
    "train_dataset = custom_data(x_train, y_train)\n",
    "train_loader = DataLoader(train_dataset)\n",
    "\n",
    "test_dataset = custom_data(x_test, y_test)\n",
    "test_loader = DataLoader(test_dataset)"
   ]
  },
  {
   "cell_type": "code",
   "execution_count": 14,
   "metadata": {},
   "outputs": [
    {
     "name": "stdout",
     "output_type": "stream",
     "text": [
      "torch.Size([1, 4])\n",
      "torch.Size([1])\n",
      "torch.float32\n",
      "torch.int64\n"
     ]
    }
   ],
   "source": [
    "x_in, y_out = next(iter(train_loader))\n",
    "\n",
    "print(x_in.shape)\n",
    "print(y_out.shape)\n",
    "\n",
    "print(x_in.dtype)\n",
    "print(y_out.dtype)"
   ]
  },
  {
   "cell_type": "code",
   "execution_count": 21,
   "metadata": {},
   "outputs": [],
   "source": [
    "import torch.nn.functional as F\n",
    "\n",
    "class Mymodel(nn.Module):\n",
    "    def __init__(self):\n",
    "        super(Mymodel, self).__init__()\n",
    "        self.fc1 = nn.Linear(4, 16)\n",
    "        self.fc2 = nn.Linear(16, 8)\n",
    "        self.fc3 = nn.Linear(8, 2)\n",
    "\n",
    "    def forward(self, x):\n",
    "        x = self.fc1(x)\n",
    "        x = F.relu(x)\n",
    "        x = self.fc2(x)\n",
    "        x = F.relu(x)\n",
    "\n",
    "        out = self.fc3(x)\n",
    "        return out"
   ]
  },
  {
   "cell_type": "code",
   "execution_count": 22,
   "metadata": {},
   "outputs": [],
   "source": [
    "model = Mymodel()"
   ]
  },
  {
   "cell_type": "code",
   "execution_count": 23,
   "metadata": {},
   "outputs": [],
   "source": [
    "criterion = nn.CrossEntropyLoss()\n",
    "optimizer = optim.Adam(model.parameters(), lr = 0.001)"
   ]
  },
  {
   "cell_type": "code",
   "execution_count": 30,
   "metadata": {},
   "outputs": [
    {
     "name": "stdout",
     "output_type": "stream",
     "text": [
      "Epoch 100, Loss : 0.00017248096992261708, pred : tensor([[-4.5714,  4.0935]], grad_fn=<AddmmBackward0>)\n",
      "Epoch 200, Loss : 0.0001629458274692297, pred : tensor([[-4.5985,  4.1238]], grad_fn=<AddmmBackward0>)\n",
      "Epoch 300, Loss : 0.00015376816736534238, pred : tensor([[-4.6258,  4.1543]], grad_fn=<AddmmBackward0>)\n",
      "Epoch 400, Loss : 0.00014506718434859067, pred : tensor([[-4.6531,  4.1847]], grad_fn=<AddmmBackward0>)\n",
      "Epoch 500, Loss : 0.00013684290752280504, pred : tensor([[-4.6812,  4.2159]], grad_fn=<AddmmBackward0>)\n",
      "Epoch 600, Loss : 0.00012885693286079913, pred : tensor([[-4.7094,  4.2473]], grad_fn=<AddmmBackward0>)\n",
      "Epoch 700, Loss : 0.00012134769349358976, pred : tensor([[-4.7380,  4.2790]], grad_fn=<AddmmBackward0>)\n",
      "Epoch 800, Loss : 0.00011419598013162613, pred : tensor([[-4.7669,  4.3111]], grad_fn=<AddmmBackward0>)\n",
      "Epoch 900, Loss : 0.00010740180005086586, pred : tensor([[-4.7959,  4.3431]], grad_fn=<AddmmBackward0>)\n",
      "Epoch 1000, Loss : 0.00010084597306558862, pred : tensor([[-4.8256,  4.3759]], grad_fn=<AddmmBackward0>)\n",
      "Epoch 1100, Loss : 9.476689592702314e-05, pred : tensor([[-4.8555,  4.4090]], grad_fn=<AddmmBackward0>)\n",
      "Epoch 1200, Loss : 8.892617915989831e-05, pred : tensor([[-4.8859,  4.4424]], grad_fn=<AddmmBackward0>)\n",
      "Epoch 1300, Loss : 8.332382276421413e-05, pred : tensor([[-4.9165,  4.4762]], grad_fn=<AddmmBackward0>)\n",
      "Epoch 1400, Loss : 7.807903602952138e-05, pred : tensor([[-4.9475,  4.5102]], grad_fn=<AddmmBackward0>)\n",
      "Epoch 1500, Loss : 7.30726242181845e-05, pred : tensor([[-4.9790,  4.5448]], grad_fn=<AddmmBackward0>)\n",
      "Epoch 1600, Loss : 6.83045873302035e-05, pred : tensor([[-5.0110,  4.5798]], grad_fn=<AddmmBackward0>)\n",
      "Epoch 1700, Loss : 6.389413465512916e-05, pred : tensor([[-5.0433,  4.6153]], grad_fn=<AddmmBackward0>)\n",
      "Epoch 1800, Loss : 5.9602869441732764e-05, pred : tensor([[-5.0761,  4.6511]], grad_fn=<AddmmBackward0>)\n",
      "Epoch 1900, Loss : 5.566918844124302e-05, pred : tensor([[-5.1092,  4.6874]], grad_fn=<AddmmBackward0>)\n",
      "Epoch 2000, Loss : 5.185469490243122e-05, pred : tensor([[-5.1426,  4.7239]], grad_fn=<AddmmBackward0>)\n",
      "Epoch 2100, Loss : 4.827859811484814e-05, pred : tensor([[-5.1770,  4.7612]], grad_fn=<AddmmBackward0>)\n",
      "Epoch 2200, Loss : 4.494089080253616e-05, pred : tensor([[-5.2116,  4.7989]], grad_fn=<AddmmBackward0>)\n",
      "Epoch 2300, Loss : 4.172238186583854e-05, pred : tensor([[-5.2468,  4.8371]], grad_fn=<AddmmBackward0>)\n",
      "Epoch 2400, Loss : 3.8742269680369645e-05, pred : tensor([[-5.2824,  4.8758]], grad_fn=<AddmmBackward0>)\n",
      "Epoch 2500, Loss : 3.6000557884108275e-05, pred : tensor([[-5.3185,  4.9150]], grad_fn=<AddmmBackward0>)\n",
      "Epoch 2600, Loss : 3.325883881188929e-05, pred : tensor([[-5.3552,  4.9548]], grad_fn=<AddmmBackward0>)\n",
      "Epoch 2700, Loss : 3.0874729418428615e-05, pred : tensor([[-5.3924,  4.9951]], grad_fn=<AddmmBackward0>)\n",
      "Epoch 2800, Loss : 2.8490614567999728e-05, pred : tensor([[-5.4301,  5.0358]], grad_fn=<AddmmBackward0>)\n",
      "Epoch 2900, Loss : 2.634490556374658e-05, pred : tensor([[-5.4686,  5.0772]], grad_fn=<AddmmBackward0>)\n",
      "Epoch 3000, Loss : 2.4199192921514623e-05, pred : tensor([[-5.5076,  5.1193]], grad_fn=<AddmmBackward0>)\n",
      "Epoch 3100, Loss : 2.2291887944447808e-05, pred : tensor([[-5.5471,  5.1619]], grad_fn=<AddmmBackward0>)\n",
      "Epoch 3200, Loss : 2.0503786799963564e-05, pred : tensor([[-5.5874,  5.2052]], grad_fn=<AddmmBackward0>)\n",
      "Epoch 3300, Loss : 1.883488948806189e-05, pred : tensor([[-5.6283,  5.2492]], grad_fn=<AddmmBackward0>)\n",
      "Epoch 3400, Loss : 1.728519782773219e-05, pred : tensor([[-5.6698,  5.2938]], grad_fn=<AddmmBackward0>)\n",
      "Epoch 3500, Loss : 1.585470999998506e-05, pred : tensor([[-5.7120,  5.3391]], grad_fn=<AddmmBackward0>)\n"
     ]
    }
   ],
   "source": [
    "num_epochs = 3500\n",
    "\n",
    "for epoch in range(num_epochs):\n",
    "    for x_batch, y_batch in train_loader:\n",
    "        outputs = model(x_batch)\n",
    "\n",
    "        optimizer.zero_grad()\n",
    "        loss = criterion(outputs, y_batch)\n",
    "        loss.backward()\n",
    "        optimizer.step()\n",
    "\n",
    "    if (epoch+1) % 100 == 0:\n",
    "        print(f'Epoch {epoch+1}, Loss : {loss.item()}, pred : {outputs}')"
   ]
  },
  {
   "cell_type": "code",
   "execution_count": 29,
   "metadata": {},
   "outputs": [
    {
     "name": "stdout",
     "output_type": "stream",
     "text": [
      "Accuracy : 66.66666666666667%\n"
     ]
    }
   ],
   "source": [
    "model.eval()\n",
    "with torch.no_grad():\n",
    "    correct = 0\n",
    "    total = 0\n",
    "    for x_batch, y_batch in test_loader:\n",
    "        outputs = model(x_batch)\n",
    "    \n",
    "        _, predicted = torch.max(outputs.data, 1)\n",
    "        total += y_batch.size(0)\n",
    "        correct += (predicted == y_batch).sum().item()\n",
    "\n",
    "print(f'Accuracy : {100 * correct / total}%')"
   ]
  }
 ],
 "metadata": {
  "kernelspec": {
   "display_name": "base",
   "language": "python",
   "name": "python3"
  },
  "language_info": {
   "codemirror_mode": {
    "name": "ipython",
    "version": 3
   },
   "file_extension": ".py",
   "mimetype": "text/x-python",
   "name": "python",
   "nbconvert_exporter": "python",
   "pygments_lexer": "ipython3",
   "version": "3.11.9"
  }
 },
 "nbformat": 4,
 "nbformat_minor": 2
}
